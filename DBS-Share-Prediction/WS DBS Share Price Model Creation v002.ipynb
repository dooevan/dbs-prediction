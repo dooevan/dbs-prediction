{
 "cells": [
  {
   "cell_type": "code",
   "execution_count": 1,
   "id": "ffe244b1-d0d2-4c2b-9a9e-ca1f7c91d340",
   "metadata": {},
   "outputs": [],
   "source": [
    "import pandas as pd"
   ]
  },
  {
   "cell_type": "code",
   "execution_count": 2,
   "id": "cf9c767f",
   "metadata": {},
   "outputs": [
    {
     "name": "stdout",
     "output_type": "stream",
     "text": [
      "Clean dataset saved with 251 rows\n",
      "        Date     SGD    DBS\n",
      "0 2025-08-29  1.2838  50.52\n",
      "1 2025-08-28  1.2826  50.33\n",
      "2 2025-08-27  1.2861  50.17\n",
      "3 2025-08-26  1.2852  50.02\n",
      "4 2025-08-25  1.2857  50.33\n"
     ]
    }
   ],
   "source": [
    "sgd = pd.read_csv(\"sgd.csv\", parse_dates=[\"Date\"])\n",
    "dbs = pd.read_csv(\"dbs.csv\", parse_dates=[\"Date\"])\n",
    "\n",
    "# Keep only Date + SGD, Date + DBS\n",
    "sgd = sgd[[\"Date\", \"SGD\"]]\n",
    "dbs = dbs[[\"Date\", \"DBS\"]]\n",
    "\n",
    "# Merge on Date (only keep rows with both values)\n",
    "merged = pd.merge(sgd, dbs, on=\"Date\", how=\"inner\").dropna()\n",
    "\n",
    "# Save clean dataset\n",
    "merged.to_csv(\"DBS_SingDollar.csv\", index=False)\n",
    "\n",
    "print(\"Clean dataset saved with\", len(merged), \"rows\")\n",
    "print(merged.head())\n"
   ]
  },
  {
   "cell_type": "code",
   "execution_count": 3,
   "id": "8f351b98-8667-4a9a-af2a-3cbaed00e587",
   "metadata": {},
   "outputs": [],
   "source": [
    "df = pd.read_csv(\"DBS_SingDollar.csv\")"
   ]
  },
  {
   "cell_type": "code",
   "execution_count": 4,
   "id": "d6c3f262",
   "metadata": {},
   "outputs": [
    {
     "data": {
      "text/html": [
       "<div>\n",
       "<style scoped>\n",
       "    .dataframe tbody tr th:only-of-type {\n",
       "        vertical-align: middle;\n",
       "    }\n",
       "\n",
       "    .dataframe tbody tr th {\n",
       "        vertical-align: top;\n",
       "    }\n",
       "\n",
       "    .dataframe thead th {\n",
       "        text-align: right;\n",
       "    }\n",
       "</style>\n",
       "<table border=\"1\" class=\"dataframe\">\n",
       "  <thead>\n",
       "    <tr style=\"text-align: right;\">\n",
       "      <th></th>\n",
       "      <th>Date</th>\n",
       "      <th>SGD</th>\n",
       "      <th>DBS</th>\n",
       "    </tr>\n",
       "  </thead>\n",
       "  <tbody>\n",
       "    <tr>\n",
       "      <th>0</th>\n",
       "      <td>2025-08-29</td>\n",
       "      <td>1.2838</td>\n",
       "      <td>50.52</td>\n",
       "    </tr>\n",
       "    <tr>\n",
       "      <th>1</th>\n",
       "      <td>2025-08-28</td>\n",
       "      <td>1.2826</td>\n",
       "      <td>50.33</td>\n",
       "    </tr>\n",
       "    <tr>\n",
       "      <th>2</th>\n",
       "      <td>2025-08-27</td>\n",
       "      <td>1.2861</td>\n",
       "      <td>50.17</td>\n",
       "    </tr>\n",
       "    <tr>\n",
       "      <th>3</th>\n",
       "      <td>2025-08-26</td>\n",
       "      <td>1.2852</td>\n",
       "      <td>50.02</td>\n",
       "    </tr>\n",
       "    <tr>\n",
       "      <th>4</th>\n",
       "      <td>2025-08-25</td>\n",
       "      <td>1.2857</td>\n",
       "      <td>50.33</td>\n",
       "    </tr>\n",
       "    <tr>\n",
       "      <th>...</th>\n",
       "      <td>...</td>\n",
       "      <td>...</td>\n",
       "      <td>...</td>\n",
       "    </tr>\n",
       "    <tr>\n",
       "      <th>246</th>\n",
       "      <td>2024-09-06</td>\n",
       "      <td>1.3024</td>\n",
       "      <td>36.53</td>\n",
       "    </tr>\n",
       "    <tr>\n",
       "      <th>247</th>\n",
       "      <td>2024-09-05</td>\n",
       "      <td>1.3000</td>\n",
       "      <td>36.65</td>\n",
       "    </tr>\n",
       "    <tr>\n",
       "      <th>248</th>\n",
       "      <td>2024-09-04</td>\n",
       "      <td>1.3037</td>\n",
       "      <td>36.60</td>\n",
       "    </tr>\n",
       "    <tr>\n",
       "      <th>249</th>\n",
       "      <td>2024-09-03</td>\n",
       "      <td>1.3071</td>\n",
       "      <td>37.25</td>\n",
       "    </tr>\n",
       "    <tr>\n",
       "      <th>250</th>\n",
       "      <td>2024-09-02</td>\n",
       "      <td>1.3070</td>\n",
       "      <td>36.80</td>\n",
       "    </tr>\n",
       "  </tbody>\n",
       "</table>\n",
       "<p>251 rows × 3 columns</p>\n",
       "</div>"
      ],
      "text/plain": [
       "           Date     SGD    DBS\n",
       "0    2025-08-29  1.2838  50.52\n",
       "1    2025-08-28  1.2826  50.33\n",
       "2    2025-08-27  1.2861  50.17\n",
       "3    2025-08-26  1.2852  50.02\n",
       "4    2025-08-25  1.2857  50.33\n",
       "..          ...     ...    ...\n",
       "246  2024-09-06  1.3024  36.53\n",
       "247  2024-09-05  1.3000  36.65\n",
       "248  2024-09-04  1.3037  36.60\n",
       "249  2024-09-03  1.3071  37.25\n",
       "250  2024-09-02  1.3070  36.80\n",
       "\n",
       "[251 rows x 3 columns]"
      ]
     },
     "execution_count": 4,
     "metadata": {},
     "output_type": "execute_result"
    }
   ],
   "source": [
    "df"
   ]
  },
  {
   "cell_type": "code",
   "execution_count": 5,
   "id": "c1f4ef3c-eacc-4c2b-a363-52ea3e13b27b",
   "metadata": {},
   "outputs": [
    {
     "name": "stdout",
     "output_type": "stream",
     "text": [
      "        SGD\n",
      "0    1.2838\n",
      "1    1.2826\n",
      "2    1.2861\n",
      "3    1.2852\n",
      "4    1.2857\n",
      "..      ...\n",
      "246  1.3024\n",
      "247  1.3000\n",
      "248  1.3037\n",
      "249  1.3071\n",
      "250  1.3070\n",
      "\n",
      "[251 rows x 1 columns]\n"
     ]
    }
   ],
   "source": [
    "X = df.loc[:,[\"SGD\"]]\n",
    "Y = df.loc[:,['DBS']]\n",
    "print(X)\n",
    "\n",
    "from sklearn import linear_model\n",
    "model = linear_model.LinearRegression()\n",
    "model.fit(X,Y)\n",
    "pred = model.predict(X)"
   ]
  },
  {
   "cell_type": "code",
   "execution_count": 6,
   "id": "669cd1cf-55eb-461f-9b65-11ac601c3a4f",
   "metadata": {},
   "outputs": [
    {
     "name": "stdout",
     "output_type": "stream",
     "text": [
      "3.376863907083145\n"
     ]
    }
   ],
   "source": [
    "from sklearn.metrics import mean_squared_error\n",
    "rmse = mean_squared_error(Y,pred)**0.5\n",
    "print(rmse)\n",
    "#print(rmse/Y.mean(axis=0)*100)"
   ]
  },
  {
   "cell_type": "code",
   "execution_count": 7,
   "id": "dc4f92dc-b4a9-4f3b-93bd-34d3addfbd20",
   "metadata": {},
   "outputs": [
    {
     "data": {
      "text/plain": [
       "array([[-15.15160243]])"
      ]
     },
     "execution_count": 7,
     "metadata": {},
     "output_type": "execute_result"
    }
   ],
   "source": [
    "model.coef_"
   ]
  },
  {
   "cell_type": "code",
   "execution_count": 8,
   "id": "cb803fec-1b24-484e-8c73-e0c2facfa3ec",
   "metadata": {},
   "outputs": [
    {
     "data": {
      "text/plain": [
       "array([63.56406635])"
      ]
     },
     "execution_count": 8,
     "metadata": {},
     "output_type": "execute_result"
    }
   ],
   "source": [
    "model.intercept_"
   ]
  },
  {
   "cell_type": "code",
   "execution_count": 9,
   "id": "3c5a24d0-80db-4def-bcbe-6dd0925d3df4",
   "metadata": {},
   "outputs": [
    {
     "data": {
      "text/plain": [
       "['dbs.jl']"
      ]
     },
     "execution_count": 9,
     "metadata": {},
     "output_type": "execute_result"
    }
   ],
   "source": [
    "#save model\n",
    "import joblib\n",
    "joblib.dump(model,\"dbs.jl\")\n"
   ]
  },
  {
   "cell_type": "markdown",
   "id": "2d3f1c38-6727-4a9f-abef-c486f058585f",
   "metadata": {},
   "source": [
    "---"
   ]
  },
  {
   "cell_type": "code",
   "execution_count": 10,
   "id": "186b8720-7d52-4bfe-9c59-ecc255b966fd",
   "metadata": {},
   "outputs": [
    {
     "name": "stderr",
     "output_type": "stream",
     "text": [
      "C:\\Users\\7evan\\anaconda3\\Lib\\site-packages\\sklearn\\base.py:464: UserWarning: X does not have valid feature names, but LinearRegression was fitted with feature names\n",
      "  warnings.warn(\n"
     ]
    },
    {
     "data": {
      "text/plain": [
       "array([44.17001524])"
      ]
     },
     "execution_count": 10,
     "metadata": {},
     "output_type": "execute_result"
    }
   ],
   "source": [
    "#load model\n",
    "import joblib\n",
    "model = joblib.load(\"dbs.jl\")\n",
    "\n",
    "# Predict \n",
    "rate = 1.28\n",
    "model.predict([[rate]])[0]\n"
   ]
  },
  {
   "cell_type": "markdown",
   "id": "7fbf5c72-1c7e-4ea5-aa48-828af265c922",
   "metadata": {},
   "source": [
    "### The End, is the New Start."
   ]
  },
  {
   "cell_type": "code",
   "execution_count": 14,
   "id": "c6cc1963-00ad-4403-81a7-d699c270fab2",
   "metadata": {},
   "outputs": [],
   "source": [
    "# More accurate by downloading more recent DBS share price data"
   ]
  }
 ],
 "metadata": {
  "kernelspec": {
   "display_name": "Python 3 (ipykernel)",
   "language": "python",
   "name": "python3"
  },
  "language_info": {
   "codemirror_mode": {
    "name": "ipython",
    "version": 3
   },
   "file_extension": ".py",
   "mimetype": "text/x-python",
   "name": "python",
   "nbconvert_exporter": "python",
   "pygments_lexer": "ipython3",
   "version": "3.11.5"
  }
 },
 "nbformat": 4,
 "nbformat_minor": 5
}
