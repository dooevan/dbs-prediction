{
 "cells": [
  {
   "cell_type": "code",
   "execution_count": 1,
   "id": "d254da78-4238-4424-a428-34af2a18b505",
   "metadata": {
    "scrolled": true
   },
   "outputs": [],
   "source": [
    "# !pip install flask"
   ]
  },
  {
   "cell_type": "code",
   "execution_count": null,
   "id": "15b9a0fb-3aa9-46d3-a049-1ac409d9b380",
   "metadata": {},
   "outputs": [
    {
     "name": "stdout",
     "output_type": "stream",
     "text": [
      " * Serving Flask app '__main__'\n",
      " * Debug mode: off\n"
     ]
    },
    {
     "name": "stderr",
     "output_type": "stream",
     "text": [
      "WARNING: This is a development server. Do not use it in a production deployment. Use a production WSGI server instead.\n",
      " * Running on http://127.0.0.1:5000\n",
      "Press CTRL+C to quit\n",
      "127.0.0.1 - - [31/Aug/2025 05:07:18] \"GET / HTTP/1.1\" 200 -\n",
      "C:\\Users\\7evan\\anaconda3\\Lib\\site-packages\\sklearn\\base.py:464: UserWarning: X does not have valid feature names, but LinearRegression was fitted with feature names\n",
      "  warnings.warn(\n",
      "127.0.0.1 - - [31/Aug/2025 05:07:23] \"POST / HTTP/1.1\" 200 -\n"
     ]
    },
    {
     "name": "stdout",
     "output_type": "stream",
     "text": [
      "[44.17001524]\n"
     ]
    },
    {
     "name": "stderr",
     "output_type": "stream",
     "text": [
      "C:\\Users\\7evan\\anaconda3\\Lib\\site-packages\\sklearn\\base.py:464: UserWarning: X does not have valid feature names, but LinearRegression was fitted with feature names\n",
      "  warnings.warn(\n",
      "127.0.0.1 - - [31/Aug/2025 05:07:38] \"POST / HTTP/1.1\" 200 -\n"
     ]
    },
    {
     "name": "stdout",
     "output_type": "stream",
     "text": [
      "[50.68520428]\n"
     ]
    }
   ],
   "source": [
    "from flask import Flask\n",
    "import joblib\n",
    "\n",
    "model = joblib.load(\"dbs.jl\")\n",
    "\n",
    "app = Flask(__name__)\n",
    "from flask import request, render_template\n",
    "@app.route(\"/\", methods = [\"GET\", \"POST\"])\n",
    "def i():\n",
    "    if request.method == \"POST\":\n",
    "        num = float(request.form.get(\"rates\"))\n",
    "        result = model.predict([[num]])[0]\n",
    "        print(result)\n",
    "        # return(render_template(\"index.html\", result = 90.2-(50.6*num)))\n",
    "        return(render_template(\"index.html\", result = result))\n",
    "    else:\n",
    "        return render_template(\"index.html\", result =\"Waiting……….\")\n",
    "if __name__==\"__main__\":\n",
    "    app.run()"
   ]
  },
  {
   "cell_type": "code",
   "execution_count": null,
   "id": "1e86c3d4-6d5d-4b87-b7a8-fab27eb3af8a",
   "metadata": {},
   "outputs": [],
   "source": []
  }
 ],
 "metadata": {
  "kernelspec": {
   "display_name": "Python 3 (ipykernel)",
   "language": "python",
   "name": "python3"
  },
  "language_info": {
   "codemirror_mode": {
    "name": "ipython",
    "version": 3
   },
   "file_extension": ".py",
   "mimetype": "text/x-python",
   "name": "python",
   "nbconvert_exporter": "python",
   "pygments_lexer": "ipython3",
   "version": "3.11.5"
  }
 },
 "nbformat": 4,
 "nbformat_minor": 5
}
